{
 "cells": [
  {
   "cell_type": "code",
   "execution_count": null,
   "metadata": {},
   "outputs": [],
   "source": [
    "from datetime import datetime\n",
    "from selenium import webdriver\n",
    "from selenium.webdriver.common.keys import Keys\n",
    "from selenium.common.exceptions import NoSuchElementException\n",
    "import time\n",
    "import pysrt\n",
    "import math "
   ]
  },
  {
   "cell_type": "code",
   "execution_count": null,
   "metadata": {},
   "outputs": [],
   "source": [
    "driver = webdriver.Chrome()\n",
    "driver.get('http://web.whatsapp.com')\n"
   ]
  },
  {
   "cell_type": "code",
   "execution_count": null,
   "metadata": {},
   "outputs": [],
   "source": [
    "subs = pysrt.open('Genius.srt')\n",
    "name='Another Carlo'\n",
    "\n",
    "msg = str('')\n",
    "elapsed = 0\n",
    "length = len(subs) - 1\n",
    "end = subs[length].end.to_time()\n",
    "StopAt = (end.hour*3600) + (end.minute*60) + (end.second+5) + (end.microsecond/1000000)\n",
    "\n",
    "user = driver.find_element_by_xpath('//span[@title = \"{}\"]'.format(name))\n",
    "user.click()\n",
    "\n",
    "msg_box=driver.find_element_by_xpath(\"(//div[@class='_2S1VP copyable-text selectable-text' and @data-tab='1'])\")\n",
    "\n",
    "start = time.time()\n",
    "\n",
    "while elapsed < StopAt :\n",
    "    now = time.time()\n",
    "    elapsed = now - start\n",
    "    m, s = divmod(elapsed, 60)\n",
    "    h, m = divmod(m, 60)\n",
    "    s = round(s,3)\n",
    "    \n",
    "    parts = subs.slice(starts_before={'hours': h, 'minutes': m, 'seconds': s}, ends_after={'hours': h, 'minutes': m, 'seconds': s})\n",
    "    for part in parts:\n",
    "        mystring = str(part)\n",
    "        postString = mystring.split(\"\\n\",2)[2]\n",
    "        if msg != postString:\n",
    "            msg = postString\n",
    "            for line in msg.splitlines():\n",
    "                msg_box.send_keys(line)\n",
    "                print(line)\n",
    "                time.sleep(0.0)\n",
    "                button = driver.find_element_by_xpath('//*[@id=\"main\"]/footer/div[1]/div[3]')\n",
    "                button.click()\n",
    "        \n",
    "    \n"
   ]
  },
  {
   "cell_type": "code",
   "execution_count": null,
   "metadata": {},
   "outputs": [],
   "source": []
  }
 ],
 "metadata": {
  "kernelspec": {
   "display_name": "Python 3",
   "language": "python",
   "name": "python3"
  },
  "language_info": {
   "codemirror_mode": {
    "name": "ipython",
    "version": 3
   },
   "file_extension": ".py",
   "mimetype": "text/x-python",
   "name": "python",
   "nbconvert_exporter": "python",
   "pygments_lexer": "ipython3",
   "version": "3.6.5"
  }
 },
 "nbformat": 4,
 "nbformat_minor": 2
}
