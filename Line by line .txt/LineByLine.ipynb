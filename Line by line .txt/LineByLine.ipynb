{
 "cells": [
  {
   "cell_type": "code",
   "execution_count": null,
   "metadata": {},
   "outputs": [],
   "source": [
    "from datetime import datetime\n",
    "from selenium import webdriver\n",
    "from selenium.webdriver.common.keys import Keys\n",
    "from selenium.common.exceptions import NoSuchElementException\n",
    "import time"
   ]
  },
  {
   "cell_type": "code",
   "execution_count": null,
   "metadata": {},
   "outputs": [],
   "source": [
    "driver = webdriver.Chrome()\n",
    "driver.get('http://web.whatsapp.com')"
   ]
  },
  {
   "cell_type": "code",
   "execution_count": null,
   "metadata": {},
   "outputs": [],
   "source": [
    "name='Another Carlo'\n",
    "Count = 0\n",
    "user = driver.find_element_by_xpath('//span[@title = \"{}\"]'.format(name))\n",
    "user.click()\n",
    "\n",
    "msg_box=driver.find_element_by_xpath(\"(//div[@class='_2S1VP copyable-text selectable-text' and @data-tab='1'])\")\n",
    "\n",
    "f=open('OneFish.txt','r')\n",
    "file = f.read()\n",
    "for line in file.splitlines():\n",
    "    if len(line) > 1:\n",
    "        print(line)\n",
    "        msg_box.send_keys(line)\n",
    "        time.sleep(1)       \n",
    "        button = driver.find_element_by_xpath('//*[@id=\"main\"]/footer/div[1]/div[3]')\n",
    "        button.click()\n",
    "        "
   ]
  }
 ],
 "metadata": {
  "kernelspec": {
   "display_name": "Python 3",
   "language": "python",
   "name": "python3"
  },
  "language_info": {
   "codemirror_mode": {
    "name": "ipython",
    "version": 3
   },
   "file_extension": ".py",
   "mimetype": "text/x-python",
   "name": "python",
   "nbconvert_exporter": "python",
   "pygments_lexer": "ipython3",
   "version": "3.6.5"
  }
 },
 "nbformat": 4,
 "nbformat_minor": 2
}
